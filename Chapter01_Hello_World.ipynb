{
  "cells": [
    {
      "cell_type": "markdown",
      "metadata": {
        "colab_type": "text",
        "id": "view-in-github"
      },
      "source": [
        "<a href=\"https://colab.research.google.com/github/SteveRxD/Excel-to-Python-2/blob/main/Chapter01_Hello_World.ipynb\" target=\"_parent\"><img src=\"https://colab.research.google.com/assets/colab-badge.svg\" alt=\"Open In Colab\"/></a>"
      ]
    },
    {
      "cell_type": "markdown",
      "metadata": {
        "id": "ir_Ci_ua9NO2"
      },
      "source": [
        "# Session 1 - Introduction to Python\n",
        "\n",
        "This series of notes is intended to provide an introductory guide to Python for people who typically work in Excel.\n",
        "\n",
        "\n",
        "\n",
        "\n"
      ]
    },
    {
      "cell_type": "markdown",
      "metadata": {
        "id": "JSM2He42iWob"
      },
      "source": [
        "\n",
        "# 1.1 Objectives\n",
        "\n",
        "Objectives of this session are:\n",
        "\n",
        "\n",
        "1.   Explain what Python is, and how to use it\n",
        "2.   Provide a simple, concrete example of running a python script\n",
        "3.   Explain how Python can complement Excel\n",
        "\n"
      ]
    },
    {
      "cell_type": "markdown",
      "metadata": {
        "id": "W0_bSiMthAcP"
      },
      "source": [
        "# 1.2 What is Python?\n",
        "\n",
        "Python is a powerful programming language that lets you write custom scripts to:\n",
        "* automate data workflows\n",
        "* perform complex calculations, and\n",
        "* build reusable tools.\n",
        "\n",
        "With Python, you can chain together steps (loading, cleaning, transforming, and visualizing data) in a single script. These scripts act like a \"recipe\" that you can share with colleagues. This makes it easy for colleagues to follow and understand your analysis. Scripts provide a step-by-step description of your analysis, unlike an Excel files in which the workflow can be hard to follow - for example, jumping between various worksheets, VBA macros, pivot tables, queries (if using Power Query) and the data model (if using Power Pivot).\n",
        "\n",
        "\n"
      ]
    },
    {
      "cell_type": "markdown",
      "metadata": {
        "id": "l7MbL8N8nS0C"
      },
      "source": [
        "# 1.3 How do I use Python?\n",
        "\n",
        "In Excel, you write formulas (like `=SUM(A1:A100)`) right inside the Excel application. So when someone says “I use Excel,” they often mean both the formula language and the app itself.\n",
        "\n",
        "Python works differently. In general terms, it’s just a language - there isn’t a single “Python app” that we use. Instead, you can choose from different applications to write and interact with your Python code. For example, you can use\n",
        "\n",
        "*  Google Colab (where these notes were written)\n",
        "*  Spyder (which is installed on your NewGen laptop)\n",
        "*  Visual Studio Code\n",
        "*  Jupyter\n",
        "*  PyCharm\n",
        "\n",
        "... plus many more options.\n",
        "\n",
        "These tools or applications are called **Integregated Development Environments**, or IDEs.\n",
        "\n",
        " The IDEs differ in terms of the features they offer, and the different ways you can interact with Python code. But at their core, each IDE does the same thing - it lets you write Python code and see the results.  \n",
        "\n",
        " With so many IDEs available, the names can feel overwhelming — but remember, they’re all just different ways to write and run Python code.\n",
        "\n",
        " For this course, we will be writing Python using Spyder. But you can also run the same code in Google Colab, or any other IDE you prefer.\n",
        "\n",
        "\n"
      ]
    },
    {
      "cell_type": "markdown",
      "metadata": {
        "id": "mW4OB7grhDxK"
      },
      "source": [
        "# 1.4 Opening Spyder"
      ]
    },
    {
      "cell_type": "code",
      "execution_count": null,
      "metadata": {
        "colab": {
          "base_uri": "https://localhost:8080/"
        },
        "id": "-rRohYcy4vAm",
        "outputId": "57173a62-550b-4825-a0cd-c59d8197bbaa"
      },
      "outputs": [
        {
          "name": "stdout",
          "output_type": "stream",
          "text": [
            "hello world\n"
          ]
        }
      ],
      "source": [
        "print(\"hello world\")"
      ]
    },
    {
      "cell_type": "markdown",
      "metadata": {
        "id": "M6Dd9n_S9ZTb"
      },
      "source": [
        "This is the next section"
      ]
    },
    {
      "cell_type": "markdown",
      "metadata": {
        "id": "x2gQX16ghK-r"
      },
      "source": [
        "# 1.4 How is this Useful?"
      ]
    }
  ],
  "metadata": {
    "colab": {
      "authorship_tag": "ABX9TyM6SOCAj+XfXXYzJYPBLcSe",
      "include_colab_link": true,
      "provenance": [],
      "toc_visible": true
    },
    "kernelspec": {
      "display_name": "Python 3",
      "name": "python3"
    },
    "language_info": {
      "name": "python"
    }
  },
  "nbformat": 4,
  "nbformat_minor": 0
}
