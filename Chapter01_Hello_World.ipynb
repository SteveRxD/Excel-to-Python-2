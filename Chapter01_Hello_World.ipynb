{
  "nbformat": 4,
  "nbformat_minor": 0,
  "metadata": {
    "colab": {
      "provenance": [],
      "toc_visible": true,
      "authorship_tag": "ABX9TyOEf8JXHO+sGTqiGwcEyjh1",
      "include_colab_link": true
    },
    "kernelspec": {
      "name": "python3",
      "display_name": "Python 3"
    },
    "language_info": {
      "name": "python"
    }
  },
  "cells": [
    {
      "cell_type": "markdown",
      "metadata": {
        "id": "view-in-github",
        "colab_type": "text"
      },
      "source": [
        "<a href=\"https://colab.research.google.com/github/SteveRxD/Excel-to-Python-2/blob/main/Chapter01_Hello_World.ipynb\" target=\"_parent\"><img src=\"https://colab.research.google.com/assets/colab-badge.svg\" alt=\"Open In Colab\"/></a>"
      ]
    },
    {
      "cell_type": "markdown",
      "source": [
        "# Session 1 - Introduction to Python\n",
        "\n",
        "This series of notes is intended to provide an introductory guide to Python for people who typically work in Excel.\n",
        "\n",
        "It\n",
        "\n",
        "\n",
        "\n",
        "\n"
      ],
      "metadata": {
        "id": "ir_Ci_ua9NO2"
      }
    },
    {
      "cell_type": "markdown",
      "source": [
        "\n",
        "# 1.1 Objectives\n",
        "\n",
        "Objectives of this session are:\n",
        "\n",
        "\n",
        "1.   Explain what Python is, and how to use it\n",
        "2.   Provide a simple, concrete example of running a python script\n",
        "3.   Explain how Python can complement Excel\n",
        "\n"
      ],
      "metadata": {
        "id": "JSM2He42iWob"
      }
    },
    {
      "cell_type": "markdown",
      "source": [
        "# 1.2 What is Python?\n",
        "\n",
        "Python is a powerful programming language that lets you write custom scripts to:\n",
        "* automate data workflows\n",
        "* perform complex calculations, and\n",
        "* build reusable tools.\n",
        "\n",
        "With Python, you can chain together steps (loading, cleaning, transforming, and visualizing data) in a single script. These scripts act like a \"recipe\" that you can share with colleagues.\n",
        "\n",
        "This makes it easy for colleagues to follow your analysis, or to copy and modify scripts for their own needs.\n"
      ],
      "metadata": {
        "id": "W0_bSiMthAcP"
      }
    },
    {
      "cell_type": "markdown",
      "source": [
        "# 1.3 A Simple Example"
      ],
      "metadata": {
        "id": "mW4OB7grhDxK"
      }
    },
    {
      "cell_type": "code",
      "execution_count": null,
      "metadata": {
        "colab": {
          "base_uri": "https://localhost:8080/"
        },
        "id": "-rRohYcy4vAm",
        "outputId": "57173a62-550b-4825-a0cd-c59d8197bbaa"
      },
      "outputs": [
        {
          "output_type": "stream",
          "name": "stdout",
          "text": [
            "hello world\n"
          ]
        }
      ],
      "source": [
        "print(\"hello world\")"
      ]
    },
    {
      "cell_type": "markdown",
      "source": [
        "This is the next section"
      ],
      "metadata": {
        "id": "M6Dd9n_S9ZTb"
      }
    },
    {
      "cell_type": "markdown",
      "source": [
        "# 1.4 How is this Useful?"
      ],
      "metadata": {
        "id": "x2gQX16ghK-r"
      }
    }
  ]
}